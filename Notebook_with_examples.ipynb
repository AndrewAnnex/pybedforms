{
 "cells": [
  {
   "cell_type": "code",
   "execution_count": 8,
   "metadata": {},
   "outputs": [],
   "source": [
    "import matplotlib.pyplot as plt\n",
    "import numpy as np\n",
    "from mayavi import mlab\n",
    "from tqdm import tqdm, trange\n",
    "import dune_topo as dt\n",
    "%matplotlib qt"
   ]
  },
  {
   "cell_type": "code",
   "execution_count": 7,
   "metadata": {},
   "outputs": [
    {
     "name": "stdout",
     "output_type": "stream",
     "text": [
      "/Users/zoltan/Dropbox/Bedforms/pybedfroms/src/pybedforms\n"
     ]
    }
   ],
   "source": [
    "cd /Users/zoltan/Dropbox/Bedforms/pybedfroms/src/pybedforms"
   ]
  },
  {
   "cell_type": "code",
   "execution_count": 9,
   "metadata": {},
   "outputs": [
    {
     "name": "stderr",
     "output_type": "stream",
     "text": [
      "100%|██████████| 500/500 [00:06<00:00, 77.60it/s] \n"
     ]
    }
   ],
   "source": [
    "dune = dt.DuneTopo() # create bedform model with default parameter\n",
    "for TIME in trange(dune.NBEDSH):\n",
    "    dune.run(TIME)"
   ]
  },
  {
   "cell_type": "code",
   "execution_count": 11,
   "metadata": {},
   "outputs": [
    {
     "name": "stderr",
     "output_type": "stream",
     "text": [
      "100%|██████████| 126/126 [00:10<00:00, 12.01it/s]\n"
     ]
    }
   ],
   "source": [
    "# plot block diagram:\n",
    "dt.plot_3d(dune.TOPO, bottom_z=0, top_z=45, time_step=4, color=(0.886, 0.792, 0.463), scale=1, ve=1, dx=1, \n",
    "                                                    line_thickness=0.05, contour_switch=False, new_figure=True)"
   ]
  },
  {
   "cell_type": "code",
   "execution_count": 14,
   "metadata": {},
   "outputs": [
    {
     "name": "stderr",
     "output_type": "stream",
     "text": [
      "100%|██████████| 251/251 [00:03<00:00, 63.95it/s]\n"
     ]
    }
   ],
   "source": [
    "# extract \"core\":\n",
    "mlab.clf()\n",
    "dt.extract_core(dune.TOPO, scale=1, ve=1, x0=50, y0=50, dx=1, radius=4, num=50, bottom=0, time_step=2)"
   ]
  }
 ],
 "metadata": {
  "kernelspec": {
   "display_name": "Python 3",
   "language": "python",
   "name": "python3"
  },
  "language_info": {
   "codemirror_mode": {
    "name": "ipython",
    "version": 3
   },
   "file_extension": ".py",
   "mimetype": "text/x-python",
   "name": "python",
   "nbconvert_exporter": "python",
   "pygments_lexer": "ipython3",
   "version": "3.7.8"
  }
 },
 "nbformat": 4,
 "nbformat_minor": 4
}
