{
 "cells": [
  {
   "cell_type": "code",
   "execution_count": 7,
   "metadata": {},
   "outputs": [
    {
     "name": "stdout",
     "output_type": "stream",
     "text": [
      "/Users/zoltan/Dropbox/Bedforms/pybedfroms/src/pybedforms\n"
     ]
    }
   ],
   "source": [
    "# cd /Users/zoltan/Dropbox/Bedforms/pybedfroms/src/pybedforms"
   ]
  },
  {
   "cell_type": "code",
   "execution_count": 8,
   "metadata": {},
   "outputs": [],
   "source": [
    "import matplotlib.pyplot as plt\n",
    "import numpy as np\n",
    "from mayavi import mlab\n",
    "from tqdm import tqdm, trange\n",
    "import dune_topo as dt\n",
    "%matplotlib qt"
   ]
  },
  {
   "cell_type": "code",
   "execution_count": 48,
   "metadata": {},
   "outputs": [
    {
     "name": "stderr",
     "output_type": "stream",
     "text": [
      "100%|██████████| 500/500 [00:06<00:00, 81.28it/s] \n"
     ]
    }
   ],
   "source": [
    "dune = dt.DuneTopo() # create bedform model with default parameter\n",
    "for TIME in trange(dune.NBEDSH):\n",
    "    dune.run(TIME)"
   ]
  },
  {
   "cell_type": "code",
   "execution_count": 50,
   "metadata": {},
   "outputs": [
    {
     "name": "stderr",
     "output_type": "stream",
     "text": [
      "100%|██████████| 251/251 [00:27<00:00,  9.13it/s]\n"
     ]
    }
   ],
   "source": [
    "# plot block diagram:\n",
    "dt.plot_3d(dune.TOPO, bottom_z=0, top_z=45, time_step=2, color=(0.886, 0.792, 0.463), scale=1, ve=1, dx=1, \n",
    "                                                    line_thickness=0.05, contour_switch=False, new_figure=True)"
   ]
  },
  {
   "cell_type": "code",
   "execution_count": 51,
   "metadata": {},
   "outputs": [
    {
     "name": "stderr",
     "output_type": "stream",
     "text": [
      "100%|██████████| 251/251 [00:03<00:00, 66.19it/s]\n"
     ]
    }
   ],
   "source": [
    "# extract \"core\":\n",
    "mlab.clf()\n",
    "dt.extract_core(dune.TOPO, scale=1, ve=1, x0=50, y0=50, dx=1, radius=4, num=50, bottom=0, time_step=2)"
   ]
  },
  {
   "cell_type": "markdown",
   "metadata": {},
   "source": [
    "## Recreating Figure 34 in Rubin & Carter (2006)"
   ]
  },
  {
   "cell_type": "code",
   "execution_count": 22,
   "metadata": {},
   "outputs": [],
   "source": [
    "FILENM  = 'fig34a' ; # \n",
    "FIGCAP  = 'Sinuous bedforms out of phase'  ; #   (2)  Caption (CHARACTER VARIABLE)\n",
    "SPCNGF  = 75.0 ; # (3)  WAVELENGTH OF BEDFORMS IN FIRST SET\n",
    "PHASEF  = 0.0 ; # (4)  Bedform phase (controls placement within block diagram)\n",
    "SMTRYF  = 1.0 ; # (5)  Mean asymmetry\n",
    "SMCHGF  = 0.0 ; # (6)  Amplitude of asymmetry cycle\n",
    "SMPRDF  = 1.0 ; # (7)  Period of asymmetry cycle\n",
    "SMFAZF  = 0.0 ; # (8)  Phase of asymmetry cycle\n",
    "HTRTOF  = .8  ; #   (9)  Mean steepness\n",
    "HTCHGF  = 0.0 ; # (10) Amplitude of steepness cycle\n",
    "HTPRDF  = 1.0 ; # (11) Period of steepness cycle\n",
    "HTFAZF  = 0.0 ; # (12) Phase of steepness cycle\n",
    "SNSPF1  = 75.0 ; # (13) Wavelength (along-crest) of first set of plan-form sinuosities\n",
    "SNMGF1  = 9.0  ; # (14) Amplitude (measured in plan-form) of first set of sinuosities\n",
    "SNFZF1  = 0.0  ; # (15) Phase of first set of sinuosities\n",
    "SNVLF1  = 0.0  ; # (16) Migration speed (along-crest) of first set of sinuosities \n",
    "SNSPF2  = 25.0 ; # (17) Wavelength (along-crest) of second set of plan-form sinuosities\n",
    "SNMGF2  = 0.0  ; # (18) Amplitude (measured in plan-form) of second set of sinuosities\n",
    "SNFZF2  = 270.0  ; # (19) Phase of second set of sinuosities\n",
    "SNVLF2  = 0.0  ; # (20) Migration speed (along-crest) of second set of sinuosities \n",
    "TRENDF  = 0.0 ; # (21) Migration direction of bedform\n",
    "VELOCF  = 1.0 ; # (22) Mean migration speed of bedform\n",
    "VLCHGF  = 0.0 ; # (23) Amplitude of speed cycle\n",
    "VLPRDF  = 1.0 ; # (24) Period of speed cycle\n",
    "VLFAZF  = 0.0 ; # (25) Phase of speed cycle\n",
    "SPCNGS  = 75.0 ; # (26) WAVELENGTH OF BEDFORMS IN SECOND SET\n",
    "PHASES  = 180.0 ; # (27) Bedform phase (controls placement within block diagram)\n",
    "SMTRYS  = 1.0 ; # (28) Mean asymmetry \n",
    "SMCHGS  = 0.0 ; # (29) Amplitude of asymmetry cycle\n",
    "SMPRDS  = 1.0 ; # (30) Period of asymmetry cycle\n",
    "SMFAZS  = 0.0 ; # (31) Phase of asymmetry cycle\n",
    "HTRTOS  = 0.8 ; #  (32) Mean steepness\n",
    "HTCHGS  = 0.0 ; # (33) Amplitude of steepness cycle\n",
    "HTPRDS  = 1.0 ; # (34) Period of steepness cycle\n",
    "HTFAZS  = 0.0 ; # (35) Phase of steepness cycle\n",
    "SNSPS1  = 75.0 ; # (36) Wavelength (along-crest) of first set of plan-form sinuosities\n",
    "SNMGS1  = 9.0  ; # (37) Amplitude (measured in plan-form) of first set of sinuosities\n",
    "SNFZS1  = 180.0  ; # (38) Phase of first set of sinuosities\n",
    "SNVLS1  = 0.0  ; # (39) Migration speed (along-crest) of first set of sinuosities \n",
    "SNSPS2  = 0.0 ; # (40) Wavelength (along-crest) of second set of plan-form sinuosities\n",
    "SNMGS2  = 0.0  ; # (41) Amplitude (measured in plan-form) of second set of sinuosities\n",
    "SNFZS2  = 270.0  ; # (42) Phase of second set of sinuosities\n",
    "SNVLS2  = 0.0  ; # (43) Migration speed (along-crest) of second set of sinuosities \n",
    "TRENDS  = 0.0 ; # (44) Migration direction of bedform\n",
    "VELOCS  = 1.0 ; # (45) Mean migration speed of bedform\n",
    "VLCHGS  = 0.0 ; # (46) Amplitude of speed cycle\n",
    "VLPRDS  = 1.0 ; # (47) Period of speed cycle\n",
    "VLFAZS  = 0.0 ; # (48) Phase of speed cycle\n",
    "SPCNGT  = 0.0 ; # (49) WAVELENGTH OF BEDFORMS IN THIRD SET\n",
    "PHASET  = 0.0 ; # (50) Bedform phase (controls placement within block diagram)\n",
    "SMTRYT  = 0.0 ; # (51) Mean asymmetry \n",
    "SMCHGT  = 0.0 ; # (52) Amplitude of asymmetry cycle\n",
    "SMPRDT  = 1.0 ; # (53) Period of asymmetry cycle\n",
    "SMFAZT  = 0.0 ; # (54) Phase of asymmetry cycle\n",
    "HTRTOT  = 0.0 ; # (55) Mean steepness\n",
    "HTCHGT  = 0.0 ; # (56) Amplitude of steepness cycle\n",
    "HTPRDT  = 1.0 ; # (57) Period of steepness cycle\n",
    "HTFAZT  = 0.0 ; # (58) Phase of steepness cycle\n",
    "SNSPT1  = 50.0 ; # (59) Wavelength (along-crest) of first set of plan-form sinuosities\n",
    "SNMGT1  = 7.0  ; # (60) Amplitude (measured in plan-form) of first set of sinuosities\n",
    "SNFZT1  = 0.0  ; # (61) Phase of first set of sinuosities\n",
    "SNVLT1  = 0.0  ; # (62) Migration speed (along-crest) of first set of sinuosities \n",
    "SNSPT2  = 50.0 ; # (63) Wavelength (along-crest) of second set of plan-form sinuosities\n",
    "SNMGT2  = 7.0  ; # (64) Amplitude (measured in plan-form) of second set of sinuosities\n",
    "SNFZT2  = 0.0  ; # (65) Phase of second set of sinuosities\n",
    "SNVLT2  = 0.0  ; # (66) Migration speed (along-crest) of second set of sinuosities \n",
    "TRENDT  = 0.0 ; # (67) Migration direction of bedform\n",
    "VELOCT  = 0.0 ; # (68) Mean migration speed of bedform\n",
    "VLCHGT  = 0.0 ; # (69) Amplitude of speed cycle\n",
    "VLPRDT  = 1.0 ; # (70) Period of speed cycle\n",
    "VLFAZT  = 0.0 ; # (71) Phase of speed cycle\n",
    "TYPE  = 3 ; # (72) Type of superpositioning (INTEGER)\n",
    "CHOICE  = 0 ; # (73) Rotation option (INTEGER\n",
    "ELVMIN  = -1.0 ; # (74) Elevation of interdune flats \n",
    "DEPRAT  = .08 ; # (75) Rate of deposition\n",
    "DEPCHG  = 0.0 ; # (76) Amplitude of cycle in rate of deposition\n",
    "DEPPRD  = 1.0 ; # (77) Period of cycle in rate of deposition\n",
    "DEPFAZ  = 0.0 ; # (78) Phase of cycle in rate of deposition\n",
    "NBEDSH  = 500 ; # (79) Time from t=0 to beginning of depositional episode (INTEGER)\n",
    "INTXBD  = 4 ; # (80) Interval between drawing of crossbeds (INTEGER)\n",
    "FRMNUM  = 1 ; # (81) Time from t=0 to end of depositional episode (INTEGER)\n",
    "CAPLOG  = 'true' ; # (82) Print caption? (LOGICAL VARIABLE)\n",
    "FILOG  = 'true' ; # (83) Print name of input file? (LOGICAL VARIABLE)\n",
    "FRMLOG  = 'true' ; # (84) Print time at end of depositional episode? (LOGICAL VARIABLE)\n",
    "IGRDSP  = 1 ; # (85) Precision? (low number) or speed? (high number); (1 2 4 5 or 10)\n",
    "ZHORIZ  = 1.0 ; # (86) Elevation of horizontal section"
   ]
  },
  {
   "cell_type": "code",
   "execution_count": 23,
   "metadata": {},
   "outputs": [],
   "source": [
    "dune = dt.DuneTopo(SPCNGF, PHASEF, SMTRYF, SMCHGF, SMPRDF, SMFAZF, HTRTOF, HTCHGF, HTPRDF, HTFAZF, SNSPF1,\n",
    "    SNMGF1, SNFZF1, SNVLF1, SNSPF2, SNMGF2, SNFZF2, SNVLF2, TRENDF, VELOCF, VLCHGF, VLPRDF, VLFAZF,\n",
    "    SPCNGS, PHASES, SMTRYS, SMCHGS, SMPRDS, SMFAZS, HTRTOS, HTCHGS, HTPRDS, HTFAZS, SNSPS1, SNMGS1,\n",
    "    SNFZS1, SNVLS1, SNSPS2, SNMGS2, SNFZS2, SNVLS2, TRENDS, VELOCS, VLCHGS, VLPRDS, VLFAZS, SPCNGT, \n",
    "    PHASET, SMTRYT, SMCHGT, SMPRDT, SMFAZT, HTRTOT, HTCHGT, HTPRDT, HTFAZT, SNSPT1, SNMGT1, SNFZT1,\n",
    "    SNVLT1, SNSPT2, SNMGT2, SNFZT2, SNVLT2, TRENDT, VELOCT, VLCHGT, VLPRDT, VLFAZT, TYPE, CHOICE,\n",
    "    ELVMIN, DEPRAT, DEPCHG, DEPPRD, DEPFAZ, NBEDSH, INTXBD, FRMNUM, CAPLOG, FILOG, FRMLOG, IGRDSP, ZHORIZ)"
   ]
  },
  {
   "cell_type": "code",
   "execution_count": 24,
   "metadata": {},
   "outputs": [
    {
     "name": "stderr",
     "output_type": "stream",
     "text": [
      "100%|██████████| 500/500 [00:06<00:00, 76.19it/s] \n"
     ]
    }
   ],
   "source": [
    "for TIME in trange(dune.NBEDSH):\n",
    "    dune.run(TIME)"
   ]
  },
  {
   "cell_type": "code",
   "execution_count": 45,
   "metadata": {},
   "outputs": [
    {
     "data": {
      "text/plain": [
       "<module 'dune_topo' from '/Users/zoltan/Dropbox/Bedforms/pybedfroms/src/pybedforms/dune_topo.py'>"
      ]
     },
     "execution_count": 45,
     "metadata": {},
     "output_type": "execute_result"
    }
   ],
   "source": [
    "reload(dt)"
   ]
  },
  {
   "cell_type": "code",
   "execution_count": 47,
   "metadata": {},
   "outputs": [
    {
     "name": "stderr",
     "output_type": "stream",
     "text": [
      "100%|██████████| 126/126 [00:25<00:00,  4.94it/s]\n"
     ]
    }
   ],
   "source": [
    "dt.plot_3d(dune.TOPO, bottom_z=10, top_z=50, time_step=4, color=(0.886, 0.792, 0.463), ci=0.25, scale=1, ve=1, dx=1, \n",
    "                                                    line_thickness=0.05, contour_switch=True, new_figure=True)"
   ]
  },
  {
   "cell_type": "code",
   "execution_count": 36,
   "metadata": {},
   "outputs": [
    {
     "name": "stderr",
     "output_type": "stream",
     "text": [
      "100%|██████████| 501/501 [00:19<00:00, 26.19it/s]\n"
     ]
    }
   ],
   "source": [
    "mlab.figure(bgcolor=(1,1,1))\n",
    "dt.extract_core(dune.TOPO, scale=1, ve=1, x0=50, y0=50, dx=1, radius=2, num=50, bottom=10, time_step=1, line_thickness=0.025)"
   ]
  }
 ],
 "metadata": {
  "kernelspec": {
   "display_name": "Python 3",
   "language": "python",
   "name": "python3"
  },
  "language_info": {
   "codemirror_mode": {
    "name": "ipython",
    "version": 3
   },
   "file_extension": ".py",
   "mimetype": "text/x-python",
   "name": "python",
   "nbconvert_exporter": "python",
   "pygments_lexer": "ipython3",
   "version": "3.7.8"
  }
 },
 "nbformat": 4,
 "nbformat_minor": 4
}
